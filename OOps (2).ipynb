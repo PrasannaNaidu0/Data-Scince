{
  "nbformat": 4,
  "nbformat_minor": 0,
  "metadata": {
    "colab": {
      "provenance": []
    },
    "kernelspec": {
      "name": "python3",
      "display_name": "Python 3"
    },
    "language_info": {
      "name": "python"
    }
  },
  "cells": [
    {
      "cell_type": "code",
      "execution_count": 1,
      "metadata": {
        "colab": {
          "base_uri": "https://localhost:8080/",
          "height": 53
        },
        "id": "FKbhBouF1dJS",
        "outputId": "400104f4-9571-4a47-b8df-e906bab790cf"
      },
      "outputs": [
        {
          "output_type": "execute_result",
          "data": {
            "text/plain": [
              "'\\nPython - Object oriented programming\\n\\nclass = varible and related methods \\n'"
            ],
            "application/vnd.google.colaboratory.intrinsic+json": {
              "type": "string"
            }
          },
          "metadata": {},
          "execution_count": 1
        }
      ],
      "source": [
        "'''\n",
        "Python - Object oriented programming\n",
        "\n",
        "class = varible and related methods\n",
        "'''"
      ]
    },
    {
      "cell_type": "code",
      "source": [
        "class Book: #class Nameoftheclass\n",
        "\n",
        "  #initializations - __init__\n",
        "  '''\n",
        "  Varibles that are used in different methods are initializaed\n",
        "  in the __init__ method\n",
        "  '''\n",
        "  def __init__(self,title,quantity,author,price):\n",
        "    self.title = title\n",
        "    self.quantity = quantity\n",
        "    self.author = author\n",
        "    self.price = price\n",
        "\n",
        "  def printtitle(self):\n",
        "    print(self.title)\n",
        "\n",
        "  def printrevnue(self):\n",
        "    print(self.price*self.quantity)\n",
        "\n",
        "  def __repr__(self): #used for print statements\n",
        "    return f\"Book : {self.title}, Quantity : {self.quantity}, Author : {self.author}\""
      ],
      "metadata": {
        "id": "3NDWnv6j2O_M"
      },
      "execution_count": 2,
      "outputs": []
    },
    {
      "cell_type": "code",
      "source": [
        "book = Book(\"Moon light\",10,\"willams\",150)#classnema(intializarions)\n",
        "book.printtitle()"
      ],
      "metadata": {
        "colab": {
          "base_uri": "https://localhost:8080/"
        },
        "id": "pb0U4UB83qH9",
        "outputId": "d16aa1c7-53b0-4b92-f4f7-625f877a5525"
      },
      "execution_count": 3,
      "outputs": [
        {
          "output_type": "stream",
          "name": "stdout",
          "text": [
            "Moon light\n"
          ]
        }
      ]
    },
    {
      "cell_type": "code",
      "source": [
        "book.printrevnue()"
      ],
      "metadata": {
        "colab": {
          "base_uri": "https://localhost:8080/"
        },
        "id": "4e_8i-z_3yu1",
        "outputId": "fbe7f1b8-cbca-457c-e2cb-75a1309bcf60"
      },
      "execution_count": 4,
      "outputs": [
        {
          "output_type": "stream",
          "name": "stdout",
          "text": [
            "1500\n"
          ]
        }
      ]
    },
    {
      "cell_type": "code",
      "source": [
        "book1 = Book(\"Moon light\",10,\"willams\",150)#classnema(intializarions)\n",
        "book2 = Book(\"Moon light 2\",40,\"willams\",200)#classnema(intializarions)\n",
        "book3 = Book(\"Moon light 3\",50,\"willams\",250)#classnema(intializarions)"
      ],
      "metadata": {
        "id": "upVzACIi5Va8"
      },
      "execution_count": 5,
      "outputs": []
    },
    {
      "cell_type": "code",
      "source": [
        "print(book1)"
      ],
      "metadata": {
        "colab": {
          "base_uri": "https://localhost:8080/"
        },
        "id": "CEzx5Ax05txB",
        "outputId": "36faa7c0-8b61-44b0-a9c7-d83e564447e0"
      },
      "execution_count": 6,
      "outputs": [
        {
          "output_type": "stream",
          "name": "stdout",
          "text": [
            "Book : Moon light, Quantity : 10, Author : willams\n"
          ]
        }
      ]
    },
    {
      "cell_type": "markdown",
      "source": [
        "## Encapsulation"
      ],
      "metadata": {
        "id": "iv-YDn_e6q6y"
      }
    },
    {
      "cell_type": "code",
      "source": [
        "class Book: #class Nameoftheclass\n",
        "\n",
        "  #initializations - __init__\n",
        "  '''\n",
        "  Varibles that are used in different methods are initializaed\n",
        "  in the __init__ method\n",
        "  '''\n",
        "  def __init__(self,title,quantity,author,price):\n",
        "    self.title = title\n",
        "    self.quantity = quantity\n",
        "    self.author = author\n",
        "    self.price = price\n",
        "    self.__discount = 0.15\n",
        "\n",
        "  ##setter method - modify the hidden variable\n",
        "  def set_discount(self,discount):\n",
        "    self.__discount = discount\n",
        "\n",
        "  ##getter methods\n",
        "  def get_price(self):\n",
        "    return self.price * (1-self.__discount)\n",
        "\n",
        "  def printtitle(self):\n",
        "    print(self.title)\n",
        "\n",
        "  def printrevnue(self):\n",
        "    print(self.price*self.quantity)\n",
        "\n",
        "  def __repr__(self): #used for print statements\n",
        "    return f\"Book : {self.title}, Quantity : {self.quantity}, Author : {self.author}\""
      ],
      "metadata": {
        "id": "6cgrdEVS5v9I"
      },
      "execution_count": 7,
      "outputs": []
    },
    {
      "cell_type": "code",
      "source": [
        "book = Book(\"Moon light\",10,\"willams\",150)#classnema(intializarions)\n",
        "book.title"
      ],
      "metadata": {
        "colab": {
          "base_uri": "https://localhost:8080/",
          "height": 35
        },
        "id": "tK6vwZu57hjw",
        "outputId": "6e6a5d62-710f-4efd-b36e-1ab4ba64938f"
      },
      "execution_count": 8,
      "outputs": [
        {
          "output_type": "execute_result",
          "data": {
            "text/plain": [
              "'Moon light'"
            ],
            "application/vnd.google.colaboratory.intrinsic+json": {
              "type": "string"
            }
          },
          "metadata": {},
          "execution_count": 8
        }
      ]
    },
    {
      "cell_type": "code",
      "source": [
        "book.__discount"
      ],
      "metadata": {
        "colab": {
          "base_uri": "https://localhost:8080/",
          "height": 178
        },
        "id": "o6aIblj17o7a",
        "outputId": "a866d3f4-d944-4409-b2dd-9d2f89005c5e"
      },
      "execution_count": 9,
      "outputs": [
        {
          "output_type": "error",
          "ename": "AttributeError",
          "evalue": "ignored",
          "traceback": [
            "\u001b[0;31m---------------------------------------------------------------------------\u001b[0m",
            "\u001b[0;31mAttributeError\u001b[0m                            Traceback (most recent call last)",
            "\u001b[0;32m<ipython-input-9-8cbd3bf0ce6a>\u001b[0m in \u001b[0;36m<cell line: 1>\u001b[0;34m()\u001b[0m\n\u001b[0;32m----> 1\u001b[0;31m \u001b[0mbook\u001b[0m\u001b[0;34m.\u001b[0m\u001b[0m__discount\u001b[0m\u001b[0;34m\u001b[0m\u001b[0;34m\u001b[0m\u001b[0m\n\u001b[0m",
            "\u001b[0;31mAttributeError\u001b[0m: 'Book' object has no attribute '__discount'"
          ]
        }
      ]
    },
    {
      "cell_type": "code",
      "source": [
        "##getter and setter methods\n",
        "\n",
        "book = Book(\"Two states\",1,\"Chetan Bhagath\",200)\n",
        "book.set_discount(0.2)\n",
        "book.get_price()"
      ],
      "metadata": {
        "colab": {
          "base_uri": "https://localhost:8080/"
        },
        "id": "hxEql4U47sAZ",
        "outputId": "edc1f3db-e68c-4f21-e908-f5cd11ccd2df"
      },
      "execution_count": 10,
      "outputs": [
        {
          "output_type": "execute_result",
          "data": {
            "text/plain": [
              "160.0"
            ]
          },
          "metadata": {},
          "execution_count": 10
        }
      ]
    },
    {
      "cell_type": "code",
      "source": [
        "'''\n",
        "Super Market\n",
        "(vegetables,fruits,choclates)  - price,quantity and discount\n",
        "\n",
        "'''"
      ],
      "metadata": {
        "colab": {
          "base_uri": "https://localhost:8080/",
          "height": 53
        },
        "id": "k0QPJISe-PmC",
        "outputId": "c994221a-1c79-4b2a-c6d7-25d55d4e843f"
      },
      "execution_count": 11,
      "outputs": [
        {
          "output_type": "execute_result",
          "data": {
            "text/plain": [
              "'\\nSuper Market\\n(vegetables,fruits,choclates)  - price,quantity and discount\\n\\n'"
            ],
            "application/vnd.google.colaboratory.intrinsic+json": {
              "type": "string"
            }
          },
          "metadata": {},
          "execution_count": 11
        }
      ]
    },
    {
      "cell_type": "markdown",
      "source": [
        "## Inheritance"
      ],
      "metadata": {
        "id": "1q_isK9lxZUX"
      }
    },
    {
      "cell_type": "code",
      "source": [
        "'''\n",
        "Ability of the class to inherit methods or properties from another class\n",
        "\n",
        "Class 1 - Methods - Parent Class\n",
        "Class 2 - Use those methods defined in class 1 into class 2 - Child Class\n",
        "'''"
      ],
      "metadata": {
        "colab": {
          "base_uri": "https://localhost:8080/",
          "height": 71
        },
        "id": "xU4aVIk098b5",
        "outputId": "0c06a25f-8acc-4c5d-86df-6c7b5ad7cb48"
      },
      "execution_count": 12,
      "outputs": [
        {
          "output_type": "execute_result",
          "data": {
            "text/plain": [
              "'\\nAbility of the class to inherit methods or properties from another class\\n\\nClass 1 - Methods - Parent Class\\nClass 2 - Use those methods defined in class 1 into class 2 - Child Class\\n'"
            ],
            "application/vnd.google.colaboratory.intrinsic+json": {
              "type": "string"
            }
          },
          "metadata": {},
          "execution_count": 12
        }
      ]
    },
    {
      "cell_type": "code",
      "source": [
        "## PARENT CLASS\n",
        "\n",
        "class Book:\n",
        "\n",
        "  def __init__(self,title,quantity,author,price):\n",
        "    self.title = title\n",
        "    self.quantity = quantity\n",
        "    self.author = author\n",
        "    self.__price = price\n",
        "    self.__discount = None\n",
        "\n",
        "  def set_discount(self,discount):\n",
        "    self.__discount = discount\n",
        "\n",
        "  def get_price(self):\n",
        "    return self.__price*(1-self.__discount)\n",
        "\n",
        "  def __repr__(self):\n",
        "    return f\"Book : {self.title}, Quantity : {self.quantity}, Author : {self.author}\""
      ],
      "metadata": {
        "id": "N04Clq5PyT-x"
      },
      "execution_count": 13,
      "outputs": []
    },
    {
      "cell_type": "code",
      "source": [
        "## CHILD CLASS\n",
        "class Novel(Book): #childclassname(parentclassname)\n",
        "\n",
        "  def __init__(self,title,quantity,author,price):\n",
        "    super().__init__(title,quantity,author,price) ##means that it will take all the initializations of the parent class\n",
        "\n",
        "## CHILD CLASS\n",
        "class Academic(Book):\n",
        "\n",
        "  def __init__(self,title,quantity,author,price,branch): #addition attributes\n",
        "    super().__init__(title,quantity,author,price)\n",
        "    self.branch = branch"
      ],
      "metadata": {
        "id": "OFkeWvX-zE0x"
      },
      "execution_count": 14,
      "outputs": []
    },
    {
      "cell_type": "code",
      "source": [
        "novel1 = Novel(\"Two States\",20,\"Chetan Bhagath\",200)\n",
        "novel1.set_discount(0.25)"
      ],
      "metadata": {
        "id": "QiDQoD040UBc"
      },
      "execution_count": 15,
      "outputs": []
    },
    {
      "cell_type": "code",
      "source": [
        "print(novel1)"
      ],
      "metadata": {
        "colab": {
          "base_uri": "https://localhost:8080/"
        },
        "id": "zu9Em5o30jxK",
        "outputId": "475cb47c-8af2-4ee1-ccb5-cc7cbfcebe3c"
      },
      "execution_count": 16,
      "outputs": [
        {
          "output_type": "stream",
          "name": "stdout",
          "text": [
            "Book : Two States, Quantity : 20, Author : Chetan Bhagath\n"
          ]
        }
      ]
    },
    {
      "cell_type": "code",
      "source": [
        "novel1.get_price()"
      ],
      "metadata": {
        "colab": {
          "base_uri": "https://localhost:8080/"
        },
        "id": "tEF8S1Qk0xuf",
        "outputId": "dfd3da52-7787-48af-9c64-d7860ed24c5a"
      },
      "execution_count": 17,
      "outputs": [
        {
          "output_type": "execute_result",
          "data": {
            "text/plain": [
              "150.0"
            ]
          },
          "metadata": {},
          "execution_count": 17
        }
      ]
    },
    {
      "cell_type": "code",
      "source": [
        "academic1 = Academic(\"Two States\",20,\"Chetan Bhagath\",200,\"MBA-HR\")\n",
        "academic1.set_discount(0.25)"
      ],
      "metadata": {
        "id": "TOC1xuYD2Yim"
      },
      "execution_count": 18,
      "outputs": []
    },
    {
      "cell_type": "code",
      "source": [
        "academic1.get_price()"
      ],
      "metadata": {
        "colab": {
          "base_uri": "https://localhost:8080/"
        },
        "id": "OyyxHoc_2m5q",
        "outputId": "1db07d4b-3c69-4e90-eb70-061ae5835e72"
      },
      "execution_count": 19,
      "outputs": [
        {
          "output_type": "execute_result",
          "data": {
            "text/plain": [
              "150.0"
            ]
          },
          "metadata": {},
          "execution_count": 19
        }
      ]
    },
    {
      "cell_type": "code",
      "source": [
        "print (academic1)"
      ],
      "metadata": {
        "colab": {
          "base_uri": "https://localhost:8080/"
        },
        "id": "CEa1bI9A2qf_",
        "outputId": "cabf1368-b748-4410-c0fe-11b4e7104890"
      },
      "execution_count": 20,
      "outputs": [
        {
          "output_type": "stream",
          "name": "stdout",
          "text": [
            "Book : Two States, Quantity : 20, Author : Chetan Bhagath\n"
          ]
        }
      ]
    },
    {
      "cell_type": "markdown",
      "source": [
        "## Polymorphism"
      ],
      "metadata": {
        "id": "butRHequ1dcD"
      }
    },
    {
      "cell_type": "code",
      "source": [
        "'''\n",
        "refers to a childclass ability to adapt to a method already present in the parent class with modifications\n",
        "\n",
        "'''"
      ],
      "metadata": {
        "colab": {
          "base_uri": "https://localhost:8080/",
          "height": 53
        },
        "id": "LfbnBAlf00if",
        "outputId": "43ca836e-8091-4cc0-9641-398b96e25e23"
      },
      "execution_count": 21,
      "outputs": [
        {
          "output_type": "execute_result",
          "data": {
            "text/plain": [
              "'\\nrefers to a childclass ability to adapt to a method already present in the parent class with modifications\\n\\n'"
            ],
            "application/vnd.google.colaboratory.intrinsic+json": {
              "type": "string"
            }
          },
          "metadata": {},
          "execution_count": 21
        }
      ]
    },
    {
      "cell_type": "code",
      "source": [
        "## PARENT CLASS\n",
        "\n",
        "class Book:\n",
        "\n",
        "  def __init__(self,title,quantity,author,price):\n",
        "    self.title = title\n",
        "    self.quantity = quantity\n",
        "    self.author = author\n",
        "    self.__price = price\n",
        "    self.__discount = None\n",
        "\n",
        "  def set_discount(self,discount):\n",
        "    self.__discount = discount\n",
        "\n",
        "  def get_price(self):\n",
        "    return self.__price*(1-self.__discount)\n",
        "\n",
        "  def __repr__(self):\n",
        "    return f\"Book : {self.title}, Quantity : {self.quantity}, Author : {self.author}\"\n",
        ""
      ],
      "metadata": {
        "id": "IJrIVCGc3VvK"
      },
      "execution_count": 22,
      "outputs": []
    },
    {
      "cell_type": "code",
      "source": [
        "## CHILD CLASS\n",
        "class Novel(Book): #childclassname(parentclassname)\n",
        "\n",
        "  def __init__(self,title,quantity,author,price):\n",
        "    super().__init__(title,quantity,author,price) ##means that it will take all the initializations of the parent class\n",
        "\n",
        "## CHILD CLASS\n",
        "class Academic(Book):\n",
        "\n",
        "  def __init__(self,title,quantity,author,price,branch): #addition attributes\n",
        "    super().__init__(title,quantity,author,price)\n",
        "    self.branch = branch\n",
        "\n",
        "  def __repr__(self):\n",
        "    return f\"Book : {self.title}, Quantity : {self.quantity}, Author : {self.author}, Branch : {self.branch}\"\n",
        ""
      ],
      "metadata": {
        "id": "YEVi9BfX3a6Y"
      },
      "execution_count": 23,
      "outputs": []
    },
    {
      "cell_type": "code",
      "source": [
        "academic1 = Academic(\"Two States\",20,\"Chetan Bhagath\",200,\"MBA-HR\")"
      ],
      "metadata": {
        "id": "M8VcQplb3eRb"
      },
      "execution_count": 24,
      "outputs": []
    },
    {
      "cell_type": "code",
      "source": [
        "print(academic1)"
      ],
      "metadata": {
        "colab": {
          "base_uri": "https://localhost:8080/"
        },
        "id": "Fzwp-vDG3icU",
        "outputId": "88ab5e77-b80d-4ba7-e568-add08666fc5d"
      },
      "execution_count": 25,
      "outputs": [
        {
          "output_type": "stream",
          "name": "stdout",
          "text": [
            "Book : Two States, Quantity : 20, Author : Chetan Bhagath, Branch : MBA-HR\n"
          ]
        }
      ]
    },
    {
      "cell_type": "code",
      "source": [
        "novel1 = Novel(\"Two States\",20,\"Chetan Bhagath\",200)\n",
        "print(novel1)"
      ],
      "metadata": {
        "colab": {
          "base_uri": "https://localhost:8080/"
        },
        "id": "kPfywRO53lKH",
        "outputId": "25133cf1-7207-428d-9a67-e3365a762c6c"
      },
      "execution_count": 26,
      "outputs": [
        {
          "output_type": "stream",
          "name": "stdout",
          "text": [
            "Book : Two States, Quantity : 20, Author : Chetan Bhagath\n"
          ]
        }
      ]
    },
    {
      "cell_type": "markdown",
      "source": [
        "## Abstraction"
      ],
      "metadata": {
        "id": "flcsl6_T4-GN"
      }
    },
    {
      "cell_type": "code",
      "source": [
        "'''\n",
        "1. Isn't directly supported by python = from abc import ABC, abstractmethod\n",
        "2. If an abstract method is declared in the parent class, then evey child class should have the implementation of it.\n",
        "'''"
      ],
      "metadata": {
        "colab": {
          "base_uri": "https://localhost:8080/",
          "height": 71
        },
        "id": "IGEhGILj4lqT",
        "outputId": "9e945e82-0641-4434-fda1-b473fc2d1c41"
      },
      "execution_count": 27,
      "outputs": [
        {
          "output_type": "execute_result",
          "data": {
            "text/plain": [
              "\"\\n1. Isn't directly supported by python = from abc import ABC, abstractmethod\\n2. If an abstract method is declared in the parent class, then evey child class should have the implementation of it.\\n\""
            ],
            "application/vnd.google.colaboratory.intrinsic+json": {
              "type": "string"
            }
          },
          "metadata": {},
          "execution_count": 27
        }
      ]
    },
    {
      "cell_type": "code",
      "source": [
        "from abc import ABC, abstractmethod\n",
        "\n",
        "class Book(ABC):\n",
        "  def __init__(self,title,quantity,author,price):\n",
        "    self.title = title\n",
        "    self.quantity = quantity\n",
        "    self.author = author\n",
        "    self.__price = price\n",
        "    self.__discount = None\n",
        "\n",
        "  def set_discount(self,discount):\n",
        "    self.__discount = discount\n",
        "\n",
        "  def get_price(self):\n",
        "    return self.__price*(1-self.__discount)\n",
        "\n",
        "  @abstractmethod #\n",
        "  def __repr__(self):\n",
        "    return f\"Book : {self.title}, Quantity : {self.quantity}, Author : {self.author}\""
      ],
      "metadata": {
        "id": "bOZ0mda15wFl"
      },
      "execution_count": 28,
      "outputs": []
    },
    {
      "cell_type": "code",
      "source": [
        "## CHILD CLASS\n",
        "class Novel(Book): #childclassname(parentclassname)\n",
        "\n",
        "  def __init__(self,title,quantity,author,price,pages):\n",
        "    super().__init__(title,quantity,author,price) ##means that it will take all the initializations of the parent class\n",
        "    self.pages = pages\n",
        "\n",
        "  def __repr__(self):\n",
        "    return f\"Book : {self.title}, Quantity : {self.quantity}, Author : {self.author}, Pages : {self.pages}\""
      ],
      "metadata": {
        "id": "nfXM3VsR6KOF"
      },
      "execution_count": 29,
      "outputs": []
    },
    {
      "cell_type": "code",
      "source": [
        "novel1 = Novel(\"Two States\",20,\"Chetan Bhagath\",200,400)\n",
        "print(novel1)"
      ],
      "metadata": {
        "colab": {
          "base_uri": "https://localhost:8080/"
        },
        "id": "zdKDj5OJ6fjv",
        "outputId": "45339eb4-ba99-44c0-a22a-a95d266024a4"
      },
      "execution_count": 30,
      "outputs": [
        {
          "output_type": "stream",
          "name": "stdout",
          "text": [
            "Book : Two States, Quantity : 20, Author : Chetan Bhagath, Pages : 400\n"
          ]
        }
      ]
    },
    {
      "cell_type": "code",
      "source": [
        "## CHILD CLASS\n",
        "class Academic(Book):\n",
        "\n",
        "  def __init__(self,title,quantity,author,price,branch): #addition attributes\n",
        "    super().__init__(title,quantity,author,price)\n",
        "    self.branch = branch\n",
        "\n",
        "  def __repr__(self):\n",
        "    return f\"Book : {self.title}, Quantity : {self.quantity}, Author : {self.author}, Branch : {self.branch}\""
      ],
      "metadata": {
        "id": "DzHqvfJK6YQJ"
      },
      "execution_count": 31,
      "outputs": []
    },
    {
      "cell_type": "code",
      "source": [
        "academic1 = Academic(\"Two States\",20,\"Chetan Bhagath\",200,\"MBA-HR\")\n",
        "print(academic1)"
      ],
      "metadata": {
        "colab": {
          "base_uri": "https://localhost:8080/"
        },
        "id": "wwxkxSa18vM0",
        "outputId": "e88d4894-67e4-44ba-88ca-f14209e68c2a"
      },
      "execution_count": 32,
      "outputs": [
        {
          "output_type": "stream",
          "name": "stdout",
          "text": [
            "Book : Two States, Quantity : 20, Author : Chetan Bhagath, Branch : MBA-HR\n"
          ]
        }
      ]
    },
    {
      "cell_type": "markdown",
      "source": [
        "## args and kwargs"
      ],
      "metadata": {
        "id": "pmd_KZEF98Qs"
      }
    },
    {
      "cell_type": "code",
      "source": [
        "'''\n",
        "*args and **kwargs - helps in passing varible number of arguments to a function\n",
        "\n",
        "*args - Non Keyword Arguments\n",
        "**kwargs - Keyword arguments\n",
        "'''"
      ],
      "metadata": {
        "colab": {
          "base_uri": "https://localhost:8080/",
          "height": 53
        },
        "id": "NuCJNgVe9Ffu",
        "outputId": "d56972e5-275f-41ba-aae7-682406c7ac0f"
      },
      "execution_count": 33,
      "outputs": [
        {
          "output_type": "execute_result",
          "data": {
            "text/plain": [
              "'\\n*args and **kwargs - helps in passing varible number of arguments to a function\\n\\n*args - Non Keyword Arguments\\n**kwargs - Keyword arguments\\n'"
            ],
            "application/vnd.google.colaboratory.intrinsic+json": {
              "type": "string"
            }
          },
          "metadata": {},
          "execution_count": 33
        }
      ]
    },
    {
      "cell_type": "code",
      "source": [
        "def myFunc(*args):\n",
        "  for arg in args:\n",
        "    print(arg)"
      ],
      "metadata": {
        "id": "4fWRUPrN-onA"
      },
      "execution_count": 34,
      "outputs": []
    },
    {
      "cell_type": "code",
      "source": [
        "myFunc(\"Hello\",\"Welcome\")"
      ],
      "metadata": {
        "colab": {
          "base_uri": "https://localhost:8080/"
        },
        "id": "478oDj9w-3Wz",
        "outputId": "9334a539-0958-4b13-b2f0-5707caee419a"
      },
      "execution_count": 35,
      "outputs": [
        {
          "output_type": "stream",
          "name": "stdout",
          "text": [
            "Hello\n",
            "Welcome\n"
          ]
        }
      ]
    },
    {
      "cell_type": "code",
      "source": [
        "def myFunc(arg1,*args):\n",
        "  print(arg1)\n",
        "  for arg in args:\n",
        "    print(arg)"
      ],
      "metadata": {
        "id": "YuGxC6ed_EjB"
      },
      "execution_count": 36,
      "outputs": []
    },
    {
      "cell_type": "code",
      "source": [
        "myFunc(1,2,3,4,9,10)"
      ],
      "metadata": {
        "colab": {
          "base_uri": "https://localhost:8080/"
        },
        "id": "rUbpdTN4_Zuy",
        "outputId": "3bd97eca-68df-415d-9171-b72c3e383ef4"
      },
      "execution_count": 37,
      "outputs": [
        {
          "output_type": "stream",
          "name": "stdout",
          "text": [
            "1\n",
            "2\n",
            "3\n",
            "4\n",
            "9\n",
            "10\n"
          ]
        }
      ]
    },
    {
      "cell_type": "code",
      "source": [
        "## kwargs - keyword arguments\n",
        "\n",
        "def myFunc(**kwargs):\n",
        "  for key,value in kwargs.items():\n",
        "    print(key,value)"
      ],
      "metadata": {
        "id": "J0x3kUk__bEt"
      },
      "execution_count": 38,
      "outputs": []
    },
    {
      "cell_type": "code",
      "source": [
        "myFunc(first=\"Kuruba\",Second=\"Ajay\",Last=\"Kumar\")"
      ],
      "metadata": {
        "colab": {
          "base_uri": "https://localhost:8080/"
        },
        "id": "V1SAmMLy_1DS",
        "outputId": "3480e3ef-aadb-43f0-987c-d9792d6c0f03"
      },
      "execution_count": 39,
      "outputs": [
        {
          "output_type": "stream",
          "name": "stdout",
          "text": [
            "first Kuruba\n",
            "Second Ajay\n",
            "Last Kumar\n"
          ]
        }
      ]
    },
    {
      "cell_type": "code",
      "source": [
        "def myFun(arg1, **kwargs):\n",
        "\tfor key, value in kwargs.items():\n",
        "\t\tprint(\"%s == %s\" % (key, value))\n",
        "\n",
        "\n",
        "# Driver code\n",
        "myFun(\"Hi\", first=\"Kuruba\",Second=\"Ajay\",Last=\"Kumar\")"
      ],
      "metadata": {
        "colab": {
          "base_uri": "https://localhost:8080/"
        },
        "id": "Cees2a1sAHij",
        "outputId": "626896a4-c3b9-4bbc-94a3-d0b0285fb6d3"
      },
      "execution_count": 40,
      "outputs": [
        {
          "output_type": "stream",
          "name": "stdout",
          "text": [
            "first == Kuruba\n",
            "Second == Ajay\n",
            "Last == Kumar\n"
          ]
        }
      ]
    },
    {
      "cell_type": "code",
      "source": [
        "def myFun(*args, **kwargs):\n",
        "    print(\"args: \", args)\n",
        "    print(\"kwargs: \", kwargs)\n",
        "\n",
        "myFun(\"Hello\",\"Welcome\", first=\"Kuruba\",Second=\"Ajay\",Last=\"Kumar\")"
      ],
      "metadata": {
        "colab": {
          "base_uri": "https://localhost:8080/"
        },
        "id": "aMx8mk6JAUhv",
        "outputId": "70ba0f1d-2e58-4ff6-dee4-c382dad36aca"
      },
      "execution_count": 41,
      "outputs": [
        {
          "output_type": "stream",
          "name": "stdout",
          "text": [
            "args:  ('Hello', 'Welcome')\n",
            "kwargs:  {'first': 'Kuruba', 'Second': 'Ajay', 'Last': 'Kumar'}\n"
          ]
        }
      ]
    },
    {
      "cell_type": "markdown",
      "source": [
        "## Method Overloading"
      ],
      "metadata": {
        "id": "DolPP8giH8DW"
      }
    },
    {
      "cell_type": "code",
      "source": [
        "class Calculator:\n",
        "\n",
        "  def __init__(self):\n",
        "    pass\n",
        "\n",
        "  def add(self,x,y):\n",
        "    return x+y\n",
        "\n",
        "  def add(self,x,y,z):\n",
        "    return x+y+z"
      ],
      "metadata": {
        "id": "tV6Kx8v0Almu"
      },
      "execution_count": 42,
      "outputs": []
    },
    {
      "cell_type": "code",
      "source": [
        "cal = Calculator()\n",
        "cal.add(1,2) @args and kwargs"
      ],
      "metadata": {
        "colab": {
          "base_uri": "https://localhost:8080/",
          "height": 196
        },
        "id": "58meZa1VIe8q",
        "outputId": "c758c136-909f-42d8-bc1e-99fc52918f64"
      },
      "execution_count": 45,
      "outputs": [
        {
          "output_type": "error",
          "ename": "TypeError",
          "evalue": "ignored",
          "traceback": [
            "\u001b[0;31m---------------------------------------------------------------------------\u001b[0m",
            "\u001b[0;31mTypeError\u001b[0m                                 Traceback (most recent call last)",
            "\u001b[0;32m<ipython-input-45-6cb9641f51d9>\u001b[0m in \u001b[0;36m<cell line: 2>\u001b[0;34m()\u001b[0m\n\u001b[1;32m      1\u001b[0m \u001b[0mcal\u001b[0m \u001b[0;34m=\u001b[0m \u001b[0mCalculator\u001b[0m\u001b[0;34m(\u001b[0m\u001b[0;34m)\u001b[0m\u001b[0;34m\u001b[0m\u001b[0;34m\u001b[0m\u001b[0m\n\u001b[0;32m----> 2\u001b[0;31m \u001b[0mcal\u001b[0m\u001b[0;34m.\u001b[0m\u001b[0madd\u001b[0m\u001b[0;34m(\u001b[0m\u001b[0;36m1\u001b[0m\u001b[0;34m,\u001b[0m\u001b[0;36m2\u001b[0m\u001b[0;34m)\u001b[0m\u001b[0;34m\u001b[0m\u001b[0;34m\u001b[0m\u001b[0m\n\u001b[0m",
            "\u001b[0;31mTypeError\u001b[0m: Calculator.add() missing 1 required positional argument: 'z'"
          ]
        }
      ]
    },
    {
      "cell_type": "markdown",
      "source": [
        "## Method Overriding"
      ],
      "metadata": {
        "id": "5UXZ0VYoJuHV"
      }
    },
    {
      "cell_type": "code",
      "source": [
        "class Parentclass:\n",
        "  def __init__(self):\n",
        "    pass\n",
        "  def call_me(self):\n",
        "    print(\"Call me Parent Class\")\n",
        "\n",
        "class Childclass(Parentclass):\n",
        "  def __init__(self):\n",
        "    super().__init__()\n",
        "    pass\n",
        "\n",
        "  def call_me(self):\n",
        "    print(\"Call me Child class\")\n",
        "    super().call_me()"
      ],
      "metadata": {
        "id": "_dZqdrejImRm"
      },
      "execution_count": 49,
      "outputs": []
    },
    {
      "cell_type": "code",
      "source": [
        "par = Parentclass()\n",
        "par.call_me()"
      ],
      "metadata": {
        "colab": {
          "base_uri": "https://localhost:8080/"
        },
        "id": "14WHDGPRKRjD",
        "outputId": "5125dffa-2dcb-4e5a-953b-a5877c1bd6df"
      },
      "execution_count": 50,
      "outputs": [
        {
          "output_type": "stream",
          "name": "stdout",
          "text": [
            "Call me Parent Class\n"
          ]
        }
      ]
    },
    {
      "cell_type": "code",
      "source": [
        "chilclass = Childclass()\n",
        "chilclass.call_me()"
      ],
      "metadata": {
        "colab": {
          "base_uri": "https://localhost:8080/"
        },
        "id": "os--NR2JKVv1",
        "outputId": "776a3b05-1d10-4308-e79a-ce0a31bcacbf"
      },
      "execution_count": 51,
      "outputs": [
        {
          "output_type": "stream",
          "name": "stdout",
          "text": [
            "Call me Child class\n",
            "Call me Parent Class\n"
          ]
        }
      ]
    },
    {
      "cell_type": "code",
      "source": [],
      "metadata": {
        "id": "WofBkonzKhnM"
      },
      "execution_count": 48,
      "outputs": []
    }
  ]
}