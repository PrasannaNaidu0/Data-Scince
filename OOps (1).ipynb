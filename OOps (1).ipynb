{
  "nbformat": 4,
  "nbformat_minor": 0,
  "metadata": {
    "colab": {
      "provenance": []
    },
    "kernelspec": {
      "name": "python3",
      "display_name": "Python 3"
    },
    "language_info": {
      "name": "python"
    }
  },
  "cells": [
    {
      "cell_type": "code",
      "execution_count": 1,
      "metadata": {
        "colab": {
          "base_uri": "https://localhost:8080/",
          "height": 35
        },
        "id": "FKbhBouF1dJS",
        "outputId": "6245af8a-b6f4-4f9d-ce25-b370d4d76ffa"
      },
      "outputs": [
        {
          "output_type": "execute_result",
          "data": {
            "text/plain": [
              "'\\nPython - Object oriented programming\\n\\nclass = varible and related methods \\n'"
            ],
            "application/vnd.google.colaboratory.intrinsic+json": {
              "type": "string"
            }
          },
          "metadata": {},
          "execution_count": 1
        }
      ],
      "source": [
        "'''\n",
        "Python - Object oriented programming\n",
        "\n",
        "class = varible and related methods\n",
        "'''"
      ]
    },
    {
      "cell_type": "code",
      "source": [
        "class Book: #class Nameoftheclass\n",
        "\n",
        "  #initializations - __init__\n",
        "  '''\n",
        "  Varibles that are used in different methods are initializaed\n",
        "  in the __init__ method\n",
        "  '''\n",
        "  def __init__(self,title,quantity,author,price):\n",
        "    self.title = title\n",
        "    self.quantity = quantity\n",
        "    self.author = author\n",
        "    self.price = price\n",
        "\n",
        "  def printtitle(self):\n",
        "    print(self.title)\n",
        "\n",
        "  def printrevnue(self):\n",
        "    print(self.price*self.quantity)\n",
        "\n",
        "  def __repr__(self): #used for print statements\n",
        "    return f\"Book : {self.title}, Quantity : {self.quantity}, Author : {self.author}\""
      ],
      "metadata": {
        "id": "3NDWnv6j2O_M"
      },
      "execution_count": 2,
      "outputs": []
    },
    {
      "cell_type": "code",
      "source": [
        "book = Book(\"Moon light\",10,\"willams\",150)#classnema(intializarions)\n",
        "book.printtitle()"
      ],
      "metadata": {
        "colab": {
          "base_uri": "https://localhost:8080/"
        },
        "id": "pb0U4UB83qH9",
        "outputId": "864d7e20-22e1-46d6-adec-a897be720b0d"
      },
      "execution_count": 3,
      "outputs": [
        {
          "output_type": "stream",
          "name": "stdout",
          "text": [
            "Moon light\n"
          ]
        }
      ]
    },
    {
      "cell_type": "code",
      "source": [
        "book.printrevnue()"
      ],
      "metadata": {
        "colab": {
          "base_uri": "https://localhost:8080/"
        },
        "id": "4e_8i-z_3yu1",
        "outputId": "f47f283d-1607-4c09-a555-3f62cbdc575b"
      },
      "execution_count": 4,
      "outputs": [
        {
          "output_type": "stream",
          "name": "stdout",
          "text": [
            "1500\n"
          ]
        }
      ]
    },
    {
      "cell_type": "code",
      "source": [
        "book1 = Book(\"Moon light\",10,\"willams\",150)#classnema(intializarions)\n",
        "book2 = Book(\"Moon light 2\",40,\"willams\",200)#classnema(intializarions)\n",
        "book3 = Book(\"Moon light 3\",50,\"willams\",250)#classnema(intializarions)"
      ],
      "metadata": {
        "id": "upVzACIi5Va8"
      },
      "execution_count": 5,
      "outputs": []
    },
    {
      "cell_type": "code",
      "source": [
        "print(book1)"
      ],
      "metadata": {
        "colab": {
          "base_uri": "https://localhost:8080/"
        },
        "id": "CEzx5Ax05txB",
        "outputId": "6c2ce8cb-8301-4b73-e348-f0b41b428703"
      },
      "execution_count": 6,
      "outputs": [
        {
          "output_type": "stream",
          "name": "stdout",
          "text": [
            "Book : Moon light, Quantity : 10, Author : willams\n"
          ]
        }
      ]
    },
    {
      "cell_type": "markdown",
      "source": [
        "## Encapsulation"
      ],
      "metadata": {
        "id": "iv-YDn_e6q6y"
      }
    },
    {
      "cell_type": "code",
      "source": [
        "class Book: #class Nameoftheclass\n",
        "\n",
        "  #initializations - __init__\n",
        "  '''\n",
        "  Varibles that are used in different methods are initializaed\n",
        "  in the __init__ method\n",
        "  '''\n",
        "  def __init__(self,title,quantity,author,price):\n",
        "    self.title = title\n",
        "    self.quantity = quantity\n",
        "    self.author = author\n",
        "    self.price = price\n",
        "    self.__discount = 0.15\n",
        "\n",
        "  ##setter method - modify the hidden variable\n",
        "  def set_discount(self,discount):\n",
        "    self.__discount = discount\n",
        "\n",
        "  ##getter methods\n",
        "  def get_price(self):\n",
        "    return self.price * (1-self.__discount)\n",
        "\n",
        "  def printtitle(self):\n",
        "    print(self.title)\n",
        "\n",
        "  def printrevnue(self):\n",
        "    print(self.price*self.quantity)\n",
        "\n",
        "  def __repr__(self): #used for print statements\n",
        "    return f\"Book : {self.title}, Quantity : {self.quantity}, Author : {self.author}\""
      ],
      "metadata": {
        "id": "6cgrdEVS5v9I"
      },
      "execution_count": 7,
      "outputs": []
    },
    {
      "cell_type": "code",
      "source": [
        "book = Book(\"Moon light\",10,\"willams\",150)#classnema(intializarions)\n",
        "book.title"
      ],
      "metadata": {
        "colab": {
          "base_uri": "https://localhost:8080/",
          "height": 35
        },
        "id": "tK6vwZu57hjw",
        "outputId": "0c272375-6a9b-47a5-a3dc-2c9951596257"
      },
      "execution_count": 8,
      "outputs": [
        {
          "output_type": "execute_result",
          "data": {
            "text/plain": [
              "'Moon light'"
            ],
            "application/vnd.google.colaboratory.intrinsic+json": {
              "type": "string"
            }
          },
          "metadata": {},
          "execution_count": 8
        }
      ]
    },
    {
      "cell_type": "code",
      "source": [
        "book.__discount"
      ],
      "metadata": {
        "colab": {
          "base_uri": "https://localhost:8080/",
          "height": 176
        },
        "id": "o6aIblj17o7a",
        "outputId": "e466bccb-1b30-4996-e4c7-5581e96de6c2"
      },
      "execution_count": 9,
      "outputs": [
        {
          "output_type": "error",
          "ename": "AttributeError",
          "evalue": "ignored",
          "traceback": [
            "\u001b[0;31m---------------------------------------------------------------------------\u001b[0m",
            "\u001b[0;31mAttributeError\u001b[0m                            Traceback (most recent call last)",
            "\u001b[0;32m<ipython-input-9-8cbd3bf0ce6a>\u001b[0m in \u001b[0;36m<cell line: 1>\u001b[0;34m()\u001b[0m\n\u001b[0;32m----> 1\u001b[0;31m \u001b[0mbook\u001b[0m\u001b[0;34m.\u001b[0m\u001b[0m__discount\u001b[0m\u001b[0;34m\u001b[0m\u001b[0;34m\u001b[0m\u001b[0m\n\u001b[0m",
            "\u001b[0;31mAttributeError\u001b[0m: 'Book' object has no attribute '__discount'"
          ]
        }
      ]
    },
    {
      "cell_type": "code",
      "source": [
        "##getter and setter methods\n",
        "\n",
        "book = Book(\"Two states\",1,\"Chetan Bhagath\",200)\n",
        "book.set_discount(0.2)\n",
        "book.get_price()"
      ],
      "metadata": {
        "colab": {
          "base_uri": "https://localhost:8080/"
        },
        "id": "hxEql4U47sAZ",
        "outputId": "288202d2-0883-4798-d916-2ecd1ac3f68b"
      },
      "execution_count": 10,
      "outputs": [
        {
          "output_type": "execute_result",
          "data": {
            "text/plain": [
              "160.0"
            ]
          },
          "metadata": {},
          "execution_count": 10
        }
      ]
    },
    {
      "cell_type": "code",
      "source": [
        "'''\n",
        "Super Market\n",
        "(vegetables,fruits,choclates)  - price,quantity and discount\n",
        "\n",
        "'''"
      ],
      "metadata": {
        "colab": {
          "base_uri": "https://localhost:8080/",
          "height": 35
        },
        "id": "k0QPJISe-PmC",
        "outputId": "8654d354-698e-47a8-f7fd-fbde89bb4ae9"
      },
      "execution_count": 11,
      "outputs": [
        {
          "output_type": "execute_result",
          "data": {
            "text/plain": [
              "'\\nSuper Market\\n(vegetables,fruits,choclates)  - price,quantity and discount\\n\\n'"
            ],
            "application/vnd.google.colaboratory.intrinsic+json": {
              "type": "string"
            }
          },
          "metadata": {},
          "execution_count": 11
        }
      ]
    },
    {
      "cell_type": "markdown",
      "source": [
        "## Inheritance"
      ],
      "metadata": {
        "id": "1q_isK9lxZUX"
      }
    },
    {
      "cell_type": "code",
      "source": [
        "'''\n",
        "Ability of the class to inherit methods or properties from another class\n",
        "\n",
        "Class 1 - Methods - Parent Class\n",
        "Class 2 - Use those methods defined in class 1 into class 2 - Child Class\n",
        "'''"
      ],
      "metadata": {
        "id": "xU4aVIk098b5"
      },
      "execution_count": null,
      "outputs": []
    },
    {
      "cell_type": "code",
      "source": [
        "## PARENT CLASS\n",
        "\n",
        "class Book:\n",
        "\n",
        "  def __init__(self,title,quantity,author,price):\n",
        "    self.title = title\n",
        "    self.quantity = quantity\n",
        "    self.author = author\n",
        "    self.__price = price\n",
        "    self.__discount = None\n",
        "\n",
        "  def set_discount(self,discount):\n",
        "    self.__discount = discount\n",
        "\n",
        "  def get_price(self):\n",
        "    return self.__price*(1-self.__discount)\n",
        "\n",
        "  def __repr__(self):\n",
        "    return f\"Book : {self.title}, Quantity : {self.quantity}, Author : {self.author}\""
      ],
      "metadata": {
        "id": "N04Clq5PyT-x"
      },
      "execution_count": 12,
      "outputs": []
    },
    {
      "cell_type": "code",
      "source": [
        "## CHILD CLASS\n",
        "class Novel(Book): #childclassname(parentclassname)\n",
        "\n",
        "  def __init__(self,title,quantity,author,price):\n",
        "    super().__init__(title,quantity,author,price) ##means that it will take all the initializations of the parent class\n",
        "\n",
        "## CHILD CLASS\n",
        "class Academic(Book):\n",
        "\n",
        "  def __init__(self,title,quantity,author,price,branch): #addition attributes\n",
        "    super().__init__(title,quantity,author,price)\n",
        "    self.branch = branch"
      ],
      "metadata": {
        "id": "OFkeWvX-zE0x"
      },
      "execution_count": 14,
      "outputs": []
    },
    {
      "cell_type": "code",
      "source": [
        "novel1 = Novel(\"Two States\",20,\"Chetan Bhagath\",200)\n",
        "novel1.set_discount(0.25)"
      ],
      "metadata": {
        "id": "QiDQoD040UBc"
      },
      "execution_count": 15,
      "outputs": []
    },
    {
      "cell_type": "code",
      "source": [
        "print(novel1)"
      ],
      "metadata": {
        "colab": {
          "base_uri": "https://localhost:8080/"
        },
        "id": "zu9Em5o30jxK",
        "outputId": "f92d58f7-f7f1-4a55-efa8-4357879f95b3"
      },
      "execution_count": 16,
      "outputs": [
        {
          "output_type": "stream",
          "name": "stdout",
          "text": [
            "Book : Two States, Quantity : 20, Author : Chetan Bhagath\n"
          ]
        }
      ]
    },
    {
      "cell_type": "code",
      "source": [
        "novel1.get_price()"
      ],
      "metadata": {
        "colab": {
          "base_uri": "https://localhost:8080/"
        },
        "id": "tEF8S1Qk0xuf",
        "outputId": "d0bd3175-9375-4e38-fccd-abf59a8dd3b6"
      },
      "execution_count": 17,
      "outputs": [
        {
          "output_type": "execute_result",
          "data": {
            "text/plain": [
              "150.0"
            ]
          },
          "metadata": {},
          "execution_count": 17
        }
      ]
    },
    {
      "cell_type": "code",
      "source": [
        "academic1 = Academic(\"Two States\",20,\"Chetan Bhagath\",200,\"MBA-HR\")\n",
        "academic1.set_discount(0.25)"
      ],
      "metadata": {
        "id": "TOC1xuYD2Yim"
      },
      "execution_count": 18,
      "outputs": []
    },
    {
      "cell_type": "code",
      "source": [
        "academic1.get_price()"
      ],
      "metadata": {
        "colab": {
          "base_uri": "https://localhost:8080/"
        },
        "id": "OyyxHoc_2m5q",
        "outputId": "b03bc9e1-e984-43fa-b0f6-de04d206ba89"
      },
      "execution_count": 19,
      "outputs": [
        {
          "output_type": "execute_result",
          "data": {
            "text/plain": [
              "150.0"
            ]
          },
          "metadata": {},
          "execution_count": 19
        }
      ]
    },
    {
      "cell_type": "code",
      "source": [
        "print (academic1)"
      ],
      "metadata": {
        "colab": {
          "base_uri": "https://localhost:8080/"
        },
        "id": "CEa1bI9A2qf_",
        "outputId": "6004695e-c026-4453-ea96-5f2871114597"
      },
      "execution_count": 20,
      "outputs": [
        {
          "output_type": "stream",
          "name": "stdout",
          "text": [
            "Book : Two States, Quantity : 20, Author : Chetan Bhagath\n"
          ]
        }
      ]
    },
    {
      "cell_type": "markdown",
      "source": [
        "## Polymorphism"
      ],
      "metadata": {
        "id": "butRHequ1dcD"
      }
    },
    {
      "cell_type": "code",
      "source": [
        "'''\n",
        "refers to a childclass ability to adapt to a method already present in the parent class with modifications\n",
        "\n",
        "'''"
      ],
      "metadata": {
        "colab": {
          "base_uri": "https://localhost:8080/",
          "height": 35
        },
        "id": "LfbnBAlf00if",
        "outputId": "3862cbda-f935-48bc-a918-6e8d85303c15"
      },
      "execution_count": 21,
      "outputs": [
        {
          "output_type": "execute_result",
          "data": {
            "text/plain": [
              "'\\nrefers to a childclass ability to adapt to a method already present in the parent class with modifications\\n\\n'"
            ],
            "application/vnd.google.colaboratory.intrinsic+json": {
              "type": "string"
            }
          },
          "metadata": {},
          "execution_count": 21
        }
      ]
    },
    {
      "cell_type": "code",
      "source": [
        "## PARENT CLASS\n",
        "\n",
        "class Book:\n",
        "\n",
        "  def __init__(self,title,quantity,author,price):\n",
        "    self.title = title\n",
        "    self.quantity = quantity\n",
        "    self.author = author\n",
        "    self.__price = price\n",
        "    self.__discount = None\n",
        "\n",
        "  def set_discount(self,discount):\n",
        "    self.__discount = discount\n",
        "\n",
        "  def get_price(self):\n",
        "    return self.__price*(1-self.__discount)\n",
        "\n",
        "  def __repr__(self):\n",
        "    return f\"Book : {self.title}, Quantity : {self.quantity}, Author : {self.author}\"\n",
        ""
      ],
      "metadata": {
        "id": "IJrIVCGc3VvK"
      },
      "execution_count": 42,
      "outputs": []
    },
    {
      "cell_type": "code",
      "source": [
        "## CHILD CLASS\n",
        "class Novel(Book): #childclassname(parentclassname)\n",
        "\n",
        "  def __init__(self,title,quantity,author,price):\n",
        "    super().__init__(title,quantity,author,price) ##means that it will take all the initializations of the parent class\n",
        "\n",
        "## CHILD CLASS\n",
        "class Academic(Book):\n",
        "\n",
        "  def __init__(self,title,quantity,author,price,branch): #addition attributes\n",
        "    super().__init__(title,quantity,author,price)\n",
        "    self.branch = branch\n",
        "\n",
        "  def __repr__(self):\n",
        "    return f\"Book : {self.title}, Quantity : {self.quantity}, Author : {self.author}, Branch : {self.branch}\"\n",
        ""
      ],
      "metadata": {
        "id": "YEVi9BfX3a6Y"
      },
      "execution_count": 43,
      "outputs": []
    },
    {
      "cell_type": "code",
      "source": [
        "academic1 = Academic(\"Two States\",20,\"Chetan Bhagath\",200,\"MBA-HR\")"
      ],
      "metadata": {
        "id": "M8VcQplb3eRb"
      },
      "execution_count": 44,
      "outputs": []
    },
    {
      "cell_type": "code",
      "source": [
        "print(academic1)"
      ],
      "metadata": {
        "colab": {
          "base_uri": "https://localhost:8080/"
        },
        "id": "Fzwp-vDG3icU",
        "outputId": "8607c399-2cff-4c6d-98aa-f1da0ef5e0ec"
      },
      "execution_count": 45,
      "outputs": [
        {
          "output_type": "stream",
          "name": "stdout",
          "text": [
            "Book : Two States, Quantity : 20, Author : Chetan Bhagath, Branch : MBA-HR\n"
          ]
        }
      ]
    },
    {
      "cell_type": "code",
      "source": [
        "novel1 = Novel(\"Two States\",20,\"Chetan Bhagath\",200)\n",
        "print(novel1)"
      ],
      "metadata": {
        "colab": {
          "base_uri": "https://localhost:8080/"
        },
        "id": "kPfywRO53lKH",
        "outputId": "e412c8c1-d79e-45dd-8e98-6f7f5c1a4aa4"
      },
      "execution_count": 46,
      "outputs": [
        {
          "output_type": "stream",
          "name": "stdout",
          "text": [
            "Book : Two States, Quantity : 20, Author : Chetan Bhagath\n"
          ]
        }
      ]
    },
    {
      "cell_type": "markdown",
      "source": [
        "## Abstraction"
      ],
      "metadata": {
        "id": "flcsl6_T4-GN"
      }
    },
    {
      "cell_type": "code",
      "source": [
        "'''\n",
        "1. Isn't directly supported by python = from abc import ABC, abstractmethod\n",
        "2. If an abstract method is declared in the parent class, then evey child class should have the implementation of it.\n",
        "'''"
      ],
      "metadata": {
        "id": "IGEhGILj4lqT"
      },
      "execution_count": null,
      "outputs": []
    },
    {
      "cell_type": "code",
      "source": [
        "from abc import ABC, abstractmethod\n",
        "\n",
        "class Book(ABC):\n",
        "  def __init__(self,title,quantity,author,price):\n",
        "    self.title = title\n",
        "    self.quantity = quantity\n",
        "    self.author = author\n",
        "    self.__price = price\n",
        "    self.__discount = None\n",
        "\n",
        "  def set_discount(self,discount):\n",
        "    self.__discount = discount\n",
        "\n",
        "  def get_price(self):\n",
        "    return self.__price*(1-self.__discount)\n",
        "\n",
        "  @abstractmethod #\n",
        "  def __repr__(self):\n",
        "    return f\"Book : {self.title}, Quantity : {self.quantity}, Author : {self.author}\""
      ],
      "metadata": {
        "id": "bOZ0mda15wFl"
      },
      "execution_count": 71,
      "outputs": []
    },
    {
      "cell_type": "code",
      "source": [
        "## CHILD CLASS\n",
        "class Novel(Book): #childclassname(parentclassname)\n",
        "\n",
        "  def __init__(self,title,quantity,author,price,pages):\n",
        "    super().__init__(title,quantity,author,price) ##means that it will take all the initializations of the parent class\n",
        "    self.pages = pages\n",
        "\n",
        "  def __repr__(self):\n",
        "    return f\"Book : {self.title}, Quantity : {self.quantity}, Author : {self.author}, Pages : {self.pages}\""
      ],
      "metadata": {
        "id": "nfXM3VsR6KOF"
      },
      "execution_count": 74,
      "outputs": []
    },
    {
      "cell_type": "code",
      "source": [
        "novel1 = Novel(\"Two States\",20,\"Chetan Bhagath\",200,400)\n",
        "print(novel1)"
      ],
      "metadata": {
        "colab": {
          "base_uri": "https://localhost:8080/"
        },
        "id": "zdKDj5OJ6fjv",
        "outputId": "dac52682-c110-49ba-c109-963298958ab4"
      },
      "execution_count": 75,
      "outputs": [
        {
          "output_type": "stream",
          "name": "stdout",
          "text": [
            "Book : Two States, Quantity : 20, Author : Chetan Bhagath, Pages : 400\n"
          ]
        }
      ]
    },
    {
      "cell_type": "code",
      "source": [
        "## CHILD CLASS\n",
        "class Academic(Book):\n",
        "\n",
        "  def __init__(self,title,quantity,author,price,branch): #addition attributes\n",
        "    super().__init__(title,quantity,author,price)\n",
        "    self.branch = branch\n",
        "\n",
        "  def __repr__(self):\n",
        "    return f\"Book : {self.title}, Quantity : {self.quantity}, Author : {self.author}, Branch : {self.branch}\""
      ],
      "metadata": {
        "id": "DzHqvfJK6YQJ"
      },
      "execution_count": 78,
      "outputs": []
    },
    {
      "cell_type": "code",
      "source": [
        "academic1 = Academic(\"Two States\",20,\"Chetan Bhagath\",200,\"MBA-HR\")\n",
        "print(academic1)"
      ],
      "metadata": {
        "colab": {
          "base_uri": "https://localhost:8080/"
        },
        "id": "wwxkxSa18vM0",
        "outputId": "0b8db657-88bb-4976-8c3a-dd73379a4ec8"
      },
      "execution_count": 79,
      "outputs": [
        {
          "output_type": "stream",
          "name": "stdout",
          "text": [
            "Book : Two States, Quantity : 20, Author : Chetan Bhagath, Branch : MBA-HR\n"
          ]
        }
      ]
    },
    {
      "cell_type": "markdown",
      "source": [
        "## args and kwargs"
      ],
      "metadata": {
        "id": "pmd_KZEF98Qs"
      }
    },
    {
      "cell_type": "code",
      "source": [
        "'''\n",
        "*args and **kwargs - helps in passing varible number of arguments to a function\n",
        "\n",
        "*args - Non Keyword Arguments\n",
        "**kwargs - Keyword arguments\n",
        "'''"
      ],
      "metadata": {
        "colab": {
          "base_uri": "https://localhost:8080/",
          "height": 35
        },
        "id": "NuCJNgVe9Ffu",
        "outputId": "dd3dd76e-63e6-460e-a71e-b01294435874"
      },
      "execution_count": 80,
      "outputs": [
        {
          "output_type": "execute_result",
          "data": {
            "text/plain": [
              "'\\n*args and **kwargs - helps in passing varible number of arguments to a function\\n\\n*args - Non Keyword Arguments\\n**kwargs - Keyword arguments\\n'"
            ],
            "application/vnd.google.colaboratory.intrinsic+json": {
              "type": "string"
            }
          },
          "metadata": {},
          "execution_count": 80
        }
      ]
    },
    {
      "cell_type": "code",
      "source": [
        "def myFunc(*args):\n",
        "  for arg in args:\n",
        "    print(arg)"
      ],
      "metadata": {
        "id": "4fWRUPrN-onA"
      },
      "execution_count": 84,
      "outputs": []
    },
    {
      "cell_type": "code",
      "source": [
        "myFunc(\"Hello\",\"Welcome\")"
      ],
      "metadata": {
        "colab": {
          "base_uri": "https://localhost:8080/"
        },
        "id": "478oDj9w-3Wz",
        "outputId": "c5e56725-9426-4481-8b2b-3b094fbb21b6"
      },
      "execution_count": 85,
      "outputs": [
        {
          "output_type": "stream",
          "name": "stdout",
          "text": [
            "Hello\n",
            "Welcome\n"
          ]
        }
      ]
    },
    {
      "cell_type": "code",
      "source": [
        "def myFunc(arg1,*args):\n",
        "  print(arg1)\n",
        "  for arg in args:\n",
        "    print(arg)"
      ],
      "metadata": {
        "id": "YuGxC6ed_EjB"
      },
      "execution_count": 89,
      "outputs": []
    },
    {
      "cell_type": "code",
      "source": [
        "myFunc(1,2,3,4,9,10)"
      ],
      "metadata": {
        "colab": {
          "base_uri": "https://localhost:8080/"
        },
        "id": "rUbpdTN4_Zuy",
        "outputId": "6080ccf3-f737-46f5-acb0-566db5eb644e"
      },
      "execution_count": 93,
      "outputs": [
        {
          "output_type": "stream",
          "name": "stdout",
          "text": [
            "1\n",
            "2\n",
            "3\n",
            "4\n",
            "9\n",
            "10\n"
          ]
        }
      ]
    },
    {
      "cell_type": "code",
      "source": [
        "## kwargs - keyword arguments\n",
        "\n",
        "def myFunc(**kwargs):\n",
        "  for key,value in kwargs.items():\n",
        "    print(key,value)"
      ],
      "metadata": {
        "id": "J0x3kUk__bEt"
      },
      "execution_count": 94,
      "outputs": []
    },
    {
      "cell_type": "code",
      "source": [
        "myFunc(first=\"Kuruba\",Second=\"Ajay\",Last=\"Kumar\")"
      ],
      "metadata": {
        "colab": {
          "base_uri": "https://localhost:8080/"
        },
        "id": "V1SAmMLy_1DS",
        "outputId": "0f26e265-d9ac-4dbe-c4f7-6ff02b13ef5f"
      },
      "execution_count": 95,
      "outputs": [
        {
          "output_type": "stream",
          "name": "stdout",
          "text": [
            "first Kuruba\n",
            "Second Ajay\n",
            "Last Kumar\n"
          ]
        }
      ]
    },
    {
      "cell_type": "code",
      "source": [
        "def myFun(arg1, **kwargs):\n",
        "\tfor key, value in kwargs.items():\n",
        "\t\tprint(\"%s == %s\" % (key, value))\n",
        "\n",
        "\n",
        "# Driver code\n",
        "myFun(\"Hi\", first=\"Kuruba\",Second=\"Ajay\",Last=\"Kumar\")"
      ],
      "metadata": {
        "colab": {
          "base_uri": "https://localhost:8080/"
        },
        "id": "Cees2a1sAHij",
        "outputId": "a37b0d41-975f-4ec9-94a6-67ee975c157e"
      },
      "execution_count": 97,
      "outputs": [
        {
          "output_type": "stream",
          "name": "stdout",
          "text": [
            "first == Kuruba\n",
            "Second == Ajay\n",
            "Last == Kumar\n"
          ]
        }
      ]
    },
    {
      "cell_type": "code",
      "source": [
        "def myFun(*args, **kwargs):\n",
        "    print(\"args: \", args)\n",
        "    print(\"kwargs: \", kwargs)\n",
        "\n",
        "myFun(\"Hello\",\"Welcome\", first=\"Kuruba\",Second=\"Ajay\",Last=\"Kumar\")"
      ],
      "metadata": {
        "colab": {
          "base_uri": "https://localhost:8080/"
        },
        "id": "aMx8mk6JAUhv",
        "outputId": "dc84447e-4c91-43ce-fd7b-4058ee9be788"
      },
      "execution_count": 98,
      "outputs": [
        {
          "output_type": "stream",
          "name": "stdout",
          "text": [
            "args:  ('Hello', 'Welcome')\n",
            "kwargs:  {'first': 'Kuruba', 'Second': 'Ajay', 'Last': 'Kumar'}\n"
          ]
        }
      ]
    },
    {
      "cell_type": "code",
      "source": [],
      "metadata": {
        "id": "tV6Kx8v0Almu"
      },
      "execution_count": null,
      "outputs": []
    }
  ]
}